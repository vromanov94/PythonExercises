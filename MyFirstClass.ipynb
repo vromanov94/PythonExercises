{
 "cells": [
  {
   "cell_type": "code",
   "execution_count": null,
   "metadata": {},
   "outputs": [],
   "source": [
    "#Employee Pay Application\n",
    "\n",
    "salary_counter=0\n",
    "while salary_counter <=2:\n",
    "    name = input(\"Name: \")\n",
    "    pay_rate = input(\"Rate: \")\n",
    "    hours_worked = input (\"Hours: \")\n",
    "    pay_rate = float(pay_rate)   \n",
    "    hours_worked = float(hours_worked)\n",
    "    \n",
    "    def base_pay(pay_rate, hours_worked):\n",
    "        return pay_rate*hours_worked\n",
    "    def extra_pay(pay_rate, hours_worked):\n",
    "        return 1.5 *(hours_worked - 40) * pay_rate\n",
    "    def over_pay():\n",
    "         return base_pay(pay_rate, hours_worked) + extra_pay(pay_rate, hours_worked)\n",
    "    if hours_worked <=40:\n",
    "        print(name + \" earned \" + str(base_pay(pay_rate, hours_worked)))\n",
    "    else:\n",
    "        print(over_pay())\n",
    "              \n",
    "    salary_counter+=1            \n",
    "        \n",
    "\n"
   ]
  },
  {
   "cell_type": "code",
   "execution_count": 1,
   "metadata": {
    "scrolled": false
   },
   "outputs": [
    {
     "name": "stdout",
     "output_type": "stream",
     "text": [
      "Good day!\n",
      "What is your problem?\n",
      "no problem\n",
      "no problem\n",
      "What is your problem?\n",
      "Q\n",
      "Good buy!\n"
     ]
    }
   ],
   "source": [
    "#Simple Eliza Application\n",
    "\n",
    "question=\"What is your problem?\"\n",
    "\n",
    "done = False\n",
    "\n",
    "print(\"Good day!\")\n",
    "while not done:\n",
    "    print(question)\n",
    "    answer=input(\"\")\n",
    "    answer=answer.lower()\n",
    "    if answer ==\"q\" or answer ==\"i'm feeling great\":\n",
    "        done = True\n",
    "    else:\n",
    "        done = False\n",
    "        print(answer)\n",
    "print(\"Good buy!\")"
   ]
  },
  {
   "cell_type": "code",
   "execution_count": 16,
   "metadata": {},
   "outputs": [
    {
     "name": "stdout",
     "output_type": "stream",
     "text": [
      "1\n",
      "2\n",
      "Fuzz\n",
      "4\n",
      "Buzz\n",
      "Fuzz\n",
      "7\n",
      "8\n",
      "Fuzz\n",
      "Buzz\n",
      "11\n",
      "Fuzz\n",
      "13\n",
      "14\n",
      "Fizzbuzz\n",
      "16\n",
      "17\n",
      "Fuzz\n",
      "19\n"
     ]
    }
   ],
   "source": [
    "#FizzBuzz Application\n",
    "\n",
    "for x in range(1,20):\n",
    "    if x % 3==0 and x %5==0: \n",
    "        print(\"Fizzbuzz\")\n",
    "    elif x % 5==0:\n",
    "        print(\"Buzz\")\n",
    "    elif x % 3==0:\n",
    "        print(\"Fuzz\")\n",
    "    else:\n",
    "        print(x)"
   ]
  },
  {
   "cell_type": "code",
   "execution_count": 29,
   "metadata": {},
   "outputs": [
    {
     "name": "stdout",
     "output_type": "stream",
     "text": [
      "Please enter a number 121\n",
      "1 is not a prime number\n",
      "121 is not a prime number\n"
     ]
    }
   ],
   "source": [
    "# Prime Numbers Application\n",
    "\n",
    "x=int(input(\"Please enter a number \"))\n",
    "counter=0\n",
    "\n",
    "\n",
    "print(\"1 is not a prime number\")\n",
    "\n",
    "for i in range(2, x):\n",
    "    for j in range(2, i):\n",
    "        if i%j==0:\n",
    "            counter=+1\n",
    "            \n",
    "            \n",
    "if counter==1:\n",
    "    print(str(x) + \" is not a prime number\")\n",
    "else:\n",
    "    print(str(x) + \" is a prime number\")\n",
    "    "
   ]
  },
  {
   "cell_type": "code",
   "execution_count": null,
   "metadata": {},
   "outputs": [
    {
     "name": "stdout",
     "output_type": "stream",
     "text": [
      "What kind of rental car would you like? toyota\n"
     ]
    }
   ],
   "source": [
    "# Exercise 7.1 - Rental Car: Write a program that asks the user what kind of \n",
    "# rental car they would like. Print a message about that car such \n",
    "# as, \"Let me see if I can find you a Subaru.\"\n",
    "\n",
    "message= input(\"What kind of rental car would you like? \")\n",
    "\n",
    "response=input(\"Let me see if I can find you a \" + message)\n"
   ]
  },
  {
   "cell_type": "code",
   "execution_count": null,
   "metadata": {},
   "outputs": [],
   "source": []
  },
  {
   "cell_type": "code",
   "execution_count": null,
   "metadata": {},
   "outputs": [],
   "source": []
  }
 ],
 "metadata": {
  "kernelspec": {
   "display_name": "Python 3",
   "language": "python",
   "name": "python3"
  },
  "language_info": {
   "codemirror_mode": {
    "name": "ipython",
    "version": 3
   },
   "file_extension": ".py",
   "mimetype": "text/x-python",
   "name": "python",
   "nbconvert_exporter": "python",
   "pygments_lexer": "ipython3",
   "version": "3.7.3"
  }
 },
 "nbformat": 4,
 "nbformat_minor": 2
}
